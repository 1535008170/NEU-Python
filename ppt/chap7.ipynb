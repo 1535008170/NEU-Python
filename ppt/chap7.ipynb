{
 "cells": [
  {
   "cell_type": "code",
   "execution_count": 23,
   "metadata": {},
   "outputs": [],
   "source": [
    "import tkinter as tk  # 使用Tkinter前需要先导入\n",
    "\n",
    "window = tk.Tk()\n",
    " \n",
    "window.title('My Window')\n",
    "\n",
    "window.geometry('500x300')  # 这里的乘是小x\n",
    " \n",
    "#在图形界面上设定标签\n",
    "l = tk.Label(window, text='你好！this is Tkinter', bg='green', font=('Arial', 40), width=30, height=2)\n",
    "\n",
    "l.pack()    # Label内容content区域放置位置，自动调节尺寸\n",
    "# 放置lable的方法有：1）l.pack(); 2)l.place();\n",
    "\n",
    "window.mainloop()\n"
   ]
  },
  {
   "cell_type": "markdown",
   "metadata": {},
   "source": [
    "# Button 例子"
   ]
  },
  {
   "cell_type": "code",
   "execution_count": 25,
   "metadata": {},
   "outputs": [],
   "source": [
    "import tkinter as tk  # 使用Tkinter前需要先导入\n",
    " \n",
    "window = tk.Tk()\n",
    " \n",
    "window.title('My Window')\n",
    " \n",
    "window.geometry('500x300')\n",
    "\n",
    "var = tk.StringVar()    # 将label标签的内容设置为字符类型，用var来接收hit_me函数的传出内容用以显示在标签上\n",
    "l = tk.Label(window, textvariable=var, bg='green', fg='black', font=('Arial', 40), width=30, height=2)\n",
    "l.pack()\n",
    " \n",
    "# 定义一个函数功能（内容自己自由编写），供点击Button按键时调用，调用命令参数command=函数名\n",
    "on_hit = False\n",
    "def hit_me():\n",
    "    global on_hit\n",
    "    if on_hit == False:\n",
    "        on_hit = True\n",
    "        var.set('you hit me')\n",
    "    else:\n",
    "        on_hit = False\n",
    "        var.set('')\n",
    " \n",
    "#在窗口界面设置放置Button按键\n",
    "b = tk.Button(window, text='hit me', font=('Arial', 12), width=10, height=1, command=hit_me,activebackground='green').pack()\n",
    "\n",
    "# 主窗口循环显示\n",
    "window.mainloop()"
   ]
  },
  {
   "cell_type": "markdown",
   "metadata": {},
   "source": [
    "# bind方法的用法"
   ]
  },
  {
   "cell_type": "code",
   "execution_count": 26,
   "metadata": {},
   "outputs": [],
   "source": [
    "import tkinter as tk\n",
    "window = tk.Tk()\n",
    "window.title('My Window')\n",
    "window.geometry('500x300')\n",
    "\n",
    "def printLabel(event):#定义事件函数\n",
    "    x1 = tk.Label(window,text='我是一个Label!',background='pink')\n",
    "    x1.pack()\n",
    "\n",
    "b = tk.Button(window,text='单击左键试试')#定义一个按钮\n",
    "b.bind('<Button-1>', printLabel)#单击鼠标左键，绑定printLabel()函数\n",
    "b.pack()\n",
    " \n",
    "window.mainloop()\n"
   ]
  },
  {
   "cell_type": "markdown",
   "metadata": {},
   "source": [
    "# Entry例子"
   ]
  },
  {
   "cell_type": "code",
   "execution_count": 27,
   "metadata": {},
   "outputs": [],
   "source": [
    "import tkinter as tk  # 使用Tkinter前需要先导入\n",
    "\n",
    "window = tk.Tk()\n",
    "\n",
    "window.title('My Window')\n",
    "\n",
    "window.geometry('500x300')  # 这里的乘是小x\n",
    " \n",
    "# 在图形界面上设定输入框控件entry并放置控件\n",
    "e1 = tk.Entry(window, show='*', font=('Arial', 20))   # 显示成密文形式\n",
    "e2 = tk.Entry(window, show=None, font=('Arial', 50))  # 显示成明文形式\n",
    "e1.pack()\n",
    "e2.pack()\n",
    " \n",
    "# 主窗口循环显示\n",
    "window.mainloop()"
   ]
  },
  {
   "cell_type": "markdown",
   "metadata": {},
   "source": [
    "# 融合Button、Entry、Text组件"
   ]
  },
  {
   "cell_type": "code",
   "execution_count": 28,
   "metadata": {},
   "outputs": [],
   "source": [
    "import tkinter as tk  # 使用Tkinter前需要先导入\n",
    "window = tk.Tk()\n",
    "window.title('My Window')\n",
    "window.geometry('500x300')  # 这里的乘是小x\n",
    " \n",
    "# 在图形界面上设定输入框控件entry框并放置\n",
    "e = tk.Entry(window, show = None)#显示成明文形式\n",
    "e.pack() #pack的顺序决定了组件的先后位置\n",
    " \n",
    "# 定义两个触发事件时的函数insert_point和insert_end\n",
    "def insert_point(): # t是Text类型的实例，insert方法传入了'insert'参数'：在光标处插入输入内容\n",
    "    var = e.get()   # e是Entry类型的实例，get方法获取到entry中的内容\n",
    "    t.insert('insert', var)\n",
    "def insert_end():   # t是Text类型的实例，insert方法传入了'end'参数'：在末尾插入内容\n",
    "    var = e.get()   # e是Entry类型的实例，get方法获取到entry中的内容\n",
    "    t.insert('end', var)\n",
    "    \n",
    "# 创建并放置两个按钮分别触发两种情况\n",
    "b1 = tk.Button(window, text='insert point', width=10,\n",
    "               height=2, command=insert_point)\n",
    "b1.pack()\n",
    "b2 = tk.Button(window, text='insert end', width=10,\n",
    "               height=2, command=insert_end)\n",
    "b2.pack()\n",
    " \n",
    "# 创建并放置一个多行文本框text用以显示，指定height=3为文本框是三个字符高度\n",
    "t = tk.Text(window, height=3)\n",
    "t.pack()\n",
    "\n",
    "# 主窗口循环显示\n",
    "window.mainloop()"
   ]
  },
  {
   "cell_type": "markdown",
   "metadata": {},
   "source": [
    "# ListBox组件、融合Button、Label"
   ]
  },
  {
   "cell_type": "code",
   "execution_count": 29,
   "metadata": {},
   "outputs": [],
   "source": [
    "import tkinter as tk  # 使用Tkinter前需要先导入\n",
    "\n",
    "window = tk.Tk()\n",
    "window.title('My Window')\n",
    "window.geometry('500x300')  # 这里的乘是小x\n",
    " \n",
    "# 在图形界面上创建一个标签label用以显示并放置\n",
    "var1 = tk.StringVar()  # 创建变量，用var1用来接收鼠标点击具体选项的内容\n",
    "l = tk.Label(window, bg='green', fg='yellow',font=('Arial', 12), width=10, textvariable=var1)\n",
    "l.pack()\n",
    " \n",
    "# 创建一个方法用于按钮的点击事件\n",
    "def print_selection():\n",
    "    value = lb.get(lb.curselection())   # 获取当前在listbox中选中的文本\n",
    "    var1.set(value)  # 为label设置值\n",
    " \n",
    "# 创建一个按钮并放置，点击按钮调用print_selection函数\n",
    "b1 = tk.Button(window, text='print selection', width=15, height=2, command=print_selection)\n",
    "b1.pack()\n",
    " \n",
    "# 创建Listbox并为其添加内容\n",
    "var2 = tk.StringVar()\n",
    "var2.set(('1','2',3,4)) # 为变量var2设置值\n",
    "# 创建Listbox\n",
    "lb = tk.Listbox(window, listvariable=var2)  #将var2的值赋给Listbox\n",
    "# 创建一个list并将值循环添加到Listbox控件中\n",
    "list_items = [11,22,33,44]\n",
    "for item in list_items:\n",
    "    lb.insert('end', item)  # 从最后一个位置开始加入值\n",
    "    \n",
    "lb.insert(1, 'first')       # 在第一个位置加入'first'字符\n",
    "lb.insert(2, 'second')      # 在第二个位置加入'second'字符\n",
    "lb.delete(2)                # 删除第二个位置的字符\n",
    "lb.pack()\n",
    " \n",
    "# 主窗口循环显示\n",
    "window.mainloop()"
   ]
  },
  {
   "cell_type": "markdown",
   "metadata": {},
   "source": [
    "# RadioButton"
   ]
  },
  {
   "cell_type": "code",
   "execution_count": 30,
   "metadata": {},
   "outputs": [],
   "source": [
    "import tkinter as tk\n",
    "\n",
    "window = tk.Tk()\n",
    "window.title('My Window')\n",
    "window.geometry('500x300') \n",
    " \n",
    "# 在图形界面上创建一个标签label用以显示并放置\n",
    "var = tk.StringVar()    # 定义一个var用来将radiobutton的值和Label的值联系在一起.\n",
    "l = tk.Label(window, bg='yellow', width=20, text=\"empty\")\n",
    "l.pack()\n",
    " \n",
    "# 定义选项触发函数功能\n",
    "def print_selection():\n",
    "    l.config(text='you have selected ' + var.get())\n",
    " \n",
    "# 第5步，创建三个radiobutton选项，其中variable=var, value='A'的意思就是，当我们鼠标选中\n",
    "#了其中一个选项，把value的值A放到变量var中，然后赋值给variable\n",
    "r1 = tk.Radiobutton(window, text='Option A', variable=var, value='A', command=print_selection)\n",
    "r1.pack()\n",
    "r2 = tk.Radiobutton(window, text='Option B', variable=var, value='B', command=print_selection)\n",
    "r2.pack()\n",
    "r3 = tk.Radiobutton(window, text='Option C', variable=var, value='C', command=print_selection)\n",
    "r3.pack()\n",
    " \n",
    "# 主窗口循环显示\n",
    "window.mainloop()"
   ]
  },
  {
   "cell_type": "markdown",
   "metadata": {},
   "source": [
    "# Canvas 画布"
   ]
  },
  {
   "cell_type": "code",
   "execution_count": 31,
   "metadata": {},
   "outputs": [],
   "source": [
    "import tkinter as tk  # 使用Tkinter前需要先导入\n",
    "\n",
    "window = tk.Tk()\n",
    "window.title('My Window')\n",
    "window.geometry('500x300')\n",
    " \n",
    "# 在图形界面上创建 500 * 200 大小的画布并放置各种元素\n",
    "canvas = tk.Canvas(window, bg='green', height=200, width=500)\n",
    "# 说明图片路径，并导入图片到画布上\n",
    "image_file = tk.PhotoImage(file='pic.gif')\n",
    "image = canvas.create_image(250, 0, anchor='n',image=image_file)        # 图片锚定点（n图片顶端的中间点位置）放在画布（250,0）坐标处\n",
    "# 定义多边形参数，然后在画布上画出指定图形\n",
    "x0, y0, x1, y1 = 100, 100, 150, 150\n",
    "line = canvas.create_line(x0-50, y0-50, x1-50, y1-50)                   # 画直线\n",
    "oval = canvas.create_oval(x0+120, y0+50, x1+120, y1+50, fill='yellow')  # 画圆 用黄色填充\n",
    "arc = canvas.create_arc(x0, y0+50, x1, y1+50, start=0, extent=45)      # 画扇形 从0度打开收到180度结束\n",
    "rect = canvas.create_rectangle(330, 30, 330+20, 30+20)                  # 画矩形正方形\n",
    "canvas.pack()\n",
    " \n",
    "# 触发函数，用来一定指定图形\n",
    "def moveit():\n",
    "    canvas.move(rect, -2, -2) # 移动正方形rect（也可以改成其他图形名字用以移动一起图形、元素），按每次（x=2, y=2）步长进行移动\n",
    "    \n",
    "# 定义一个按钮用来移动指定图形的在画布上的位置\n",
    "b = tk.Button(window, text='move item',command=moveit)\n",
    "b.pack()\n",
    "# 主窗口循环显示\n",
    "window.mainloop()"
   ]
  },
  {
   "cell_type": "markdown",
   "metadata": {},
   "source": [
    "# Menu 菜单"
   ]
  },
  {
   "cell_type": "code",
   "execution_count": 32,
   "metadata": {},
   "outputs": [],
   "source": [
    "import tkinter as tk  # 使用Tkinter前需要先导入\n",
    " \n",
    "window = tk.Tk()\n",
    "window.title('My Window')\n",
    "window.geometry('500x300')  # 这里的乘是小x\n",
    " \n",
    "# 在图形界面上创建一个标签用以显示内容并放置\n",
    "l = tk.Label(window, text='我是一个标签', bg='green',font=('Arial', 50))\n",
    "l.pack()\n",
    " \n",
    "# 定义一个函数功能，用来代表菜单选项的功能\n",
    "counter = 1\n",
    "def do_job():\n",
    "    global counter\n",
    "    l.config(text='点了 '+ str(counter) + '下菜单')\n",
    "    counter += 1\n",
    " \n",
    "# 创建一个菜单栏，这里我们可以把他理解成一个容器，在窗口的上方\n",
    "menubar = tk.Menu(window)\n",
    " \n",
    "# 在创建的menubar里创建一个File菜单项（默认不下拉，下拉内容包括New，Open，Save，Exit功能项）\n",
    "filemenu = tk.Menu(menubar, tearoff=0)\n",
    "# add_cascade()会将菜单放到顶级菜单中，将上面定义的空菜单命名为File，放在顶级菜单栏中，就是装入那个容器中\n",
    "menubar.add_cascade(label='File', menu=filemenu)\n",
    " \n",
    "# 下拉菜单使用add_command() 在File中加入New、Open、Save等小菜单，即我们平时看到的下拉菜单，每一个小菜单对应命令操作。\n",
    "filemenu.add_command(label='New', command=do_job)\n",
    "filemenu.add_command(label='Open', command=do_job)\n",
    "filemenu.add_separator()    # 添加一条分隔线\n",
    "filemenu.add_command(label='Exit', command=window.quit) # 用tkinter里面自带的quit()函数\n",
    " \n",
    "# 创建菜单栏完成后，配置让菜单栏menubar显示出来,没有使用pack\n",
    "window.config(menu=menubar)\n",
    " \n",
    "# 主窗口循环显示\n",
    "window.mainloop()"
   ]
  },
  {
   "cell_type": "markdown",
   "metadata": {},
   "source": [
    "# Frame用法"
   ]
  },
  {
   "cell_type": "code",
   "execution_count": 5,
   "metadata": {},
   "outputs": [],
   "source": [
    "import tkinter as tk  # 使用Tkinter前需要先导入\n",
    " \n",
    "window = tk.Tk()\n",
    "window.title('My Window')\n",
    "window.geometry('500x300')  # 这里的乘是小x\n",
    "\n",
    "# 创建+放置标签，一步到位\n",
    "tk.Label(window, text='I am a Label', bg='red', font=('Arial', 16)).pack()   \n",
    "\n",
    "# 创建一个主frame，长在主window窗口上\n",
    "frame = tk.Frame(window)\n",
    "frame.pack()\n",
    " \n",
    "# 创建第二层框架frame，长在主框架frame上面\n",
    "frame_l = tk.Frame(frame)# 第二层frame，左frame，长在主frame上\n",
    "frame_r = tk.Frame(frame)# 第二层frame，右frame，长在主frame上\n",
    "frame_l.pack(side='left')\n",
    "frame_r.pack(side='right')\n",
    " \n",
    "# 创建三组标签，为第二层frame上面的内容，分为左区域和右区域，用不同颜色标识\n",
    "tk.Label(frame_l, text='on the frame_l1', bg='green').pack()\n",
    "tk.Label(frame_l, text='on the frame_l2', bg='green').pack()\n",
    "tk.Label(frame_l, text='on the frame_l3', bg='green').pack()\n",
    "tk.Label(frame_r, text='on the frame_r1', bg='yellow').pack()\n",
    "tk.Label(frame_r, text='on the frame_r2', bg='yellow').pack()\n",
    "tk.Label(frame_r, text='on the frame_r3', bg='yellow').pack()\n",
    " \n",
    "# 主窗口循环显示\n",
    "window.mainloop()\n"
   ]
  },
  {
   "cell_type": "markdown",
   "metadata": {},
   "source": [
    "# MessageBox 控件"
   ]
  },
  {
   "cell_type": "code",
   "execution_count": 6,
   "metadata": {},
   "outputs": [
    {
     "name": "stdout",
     "output_type": "stream",
     "text": [
      "True\n",
      "True\n"
     ]
    }
   ],
   "source": [
    "import tkinter as tk  # 使用Tkinter前需要先导入\n",
    "import tkinter.messagebox  # 要使用messagebox先要导入模块\n",
    "window = tk.Tk()\n",
    "window.title('My Window')\n",
    "window.geometry('500x300')  # 这里的乘是小x\n",
    " \n",
    "# 定义触发函数功能\n",
    "def hit_me():\n",
    "     #tkinter.messagebox.showinfo(title='Hi', message='你好！')              # 提示信息对话窗\n",
    "    #tkinter.messagebox.showwarning(title='Hi', message='有警告！')       # 提出警告对话窗\n",
    "    #tkinter.messagebox.showerror(title='Hi', message='出错了！')         # 提出错误对话窗\n",
    "    #print(tkinter.messagebox.askquestion(title='Hi', message='你好！'))  # 询问选择对话窗return 'yes', 'no'\n",
    "    #print(tkinter.messagebox.askyesno(title='Hi', message='你好！'))     # return 'True', 'False'\n",
    "    print(tk.messagebox.askokcancel(title='Hi', message='你好！'))  # return 'True', 'False'\n",
    " \n",
    "#\n",
    "tk.Button(window, text='hit me', bg='green', font=('Arial', 14), command=hit_me).pack()\n",
    " \n",
    "# 主窗口循环显示\n",
    "window.mainloop()"
   ]
  },
  {
   "cell_type": "markdown",
   "metadata": {},
   "source": [
    "# Grid放置法"
   ]
  },
  {
   "cell_type": "code",
   "execution_count": 7,
   "metadata": {},
   "outputs": [],
   "source": [
    "import tkinter as tk  # 使用Tkinter前需要先导入\n",
    "\n",
    "window = tk.Tk()\n",
    "window.title('My Window')\n",
    "window.geometry('500x300')\n",
    " \n",
    "for i in range(3):\n",
    "    for j in range(3):\n",
    "        tk.Label(window, text=\"标签\"+str(i)+str(j)).grid(row=i, column=j, padx=10, pady=70)\n",
    " \n",
    "# 主窗口循环显示\n",
    "window.mainloop()"
   ]
  },
  {
   "cell_type": "markdown",
   "metadata": {},
   "source": [
    "# Place() 放置法"
   ]
  },
  {
   "cell_type": "code",
   "execution_count": 6,
   "metadata": {},
   "outputs": [],
   "source": [
    "import tkinter as tk\n",
    "window = tk.Tk()\n",
    "window.title('My Window')\n",
    "window.geometry('500x300')\n",
    "\n",
    "# place 放置方法（精准的放置到指定坐标点的位置上）\n",
    "l=tk.Label(window, text='Place Here', font=('Arial', 20), )\n",
    "l.place(x=50, y=100, anchor='nw')\n",
    "\n",
    "window.mainloop()"
   ]
  },
  {
   "cell_type": "markdown",
   "metadata": {},
   "source": [
    "# wxPython 部分"
   ]
  },
  {
   "cell_type": "code",
   "execution_count": 7,
   "metadata": {},
   "outputs": [
    {
     "data": {
      "text/plain": [
       "0"
      ]
     },
     "execution_count": 7,
     "metadata": {},
     "output_type": "execute_result"
    }
   ],
   "source": [
    "import wx \n",
    "app = wx.App() \n",
    "window = wx.Frame(None, title = \"wxPython Frame\", size = (300,200)) \n",
    "panel = wx.Panel(window) \n",
    "label = wx.StaticText(panel, label = \"Hello World\", pos = (100,50)) \n",
    "window.Show(True) \n",
    "app.MainLoop()"
   ]
  }
 ],
 "metadata": {
  "kernelspec": {
   "display_name": "Python 3",
   "language": "python",
   "name": "python3"
  },
  "language_info": {
   "codemirror_mode": {
    "name": "ipython",
    "version": 3
   },
   "file_extension": ".py",
   "mimetype": "text/x-python",
   "name": "python",
   "nbconvert_exporter": "python",
   "pygments_lexer": "ipython3",
   "version": "3.7.0"
  }
 },
 "nbformat": 4,
 "nbformat_minor": 4
}
